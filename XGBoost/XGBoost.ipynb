{
 "cells": [
  {
   "cell_type": "code",
   "execution_count": 272,
   "id": "8221b558-492b-44f2-85b4-f0d5927cc8c6",
   "metadata": {},
   "outputs": [],
   "source": [
    "import xgboost\n",
    "import pandas as pd\n",
    "import numpy as np\n",
    "import matplotlib.pyplot as plt\n",
    "import warnings\n",
    "import seaborn as sns\n",
    "import matplotlib \n",
    "import scipy \n",
    "import sklearn\n",
    "from sklearn.metrics import mean_squared_error, mean_absolute_error, mean_squared_log_error\n",
    "from math import sqrt\n",
    "\n"
   ]
  },
  {
   "cell_type": "code",
   "execution_count": 203,
   "id": "88e840c0-9658-4903-8b8e-543bdccb3aa1",
   "metadata": {},
   "outputs": [
    {
     "name": "stdout",
     "output_type": "stream",
     "text": [
      "1.6.2\n"
     ]
    }
   ],
   "source": [
    "print(xgboost.__version__)"
   ]
  },
  {
   "cell_type": "code",
   "execution_count": 204,
   "id": "8f96f9b2-785d-48f4-9644-442c6aef270b",
   "metadata": {},
   "outputs": [],
   "source": [
    "from xgboost import XGBRegressor\n",
    "model = XGBRegressor()\n"
   ]
  },
  {
   "cell_type": "code",
   "execution_count": 205,
   "id": "0e1a9292-921b-43b7-84a8-28a80c6d2ace",
   "metadata": {},
   "outputs": [
    {
     "data": {
      "text/html": [
       "<div>\n",
       "<style scoped>\n",
       "    .dataframe tbody tr th:only-of-type {\n",
       "        vertical-align: middle;\n",
       "    }\n",
       "\n",
       "    .dataframe tbody tr th {\n",
       "        vertical-align: top;\n",
       "    }\n",
       "\n",
       "    .dataframe thead th {\n",
       "        text-align: right;\n",
       "    }\n",
       "</style>\n",
       "<table border=\"1\" class=\"dataframe\">\n",
       "  <thead>\n",
       "    <tr style=\"text-align: right;\">\n",
       "      <th></th>\n",
       "      <th>Year</th>\n",
       "      <th>Month</th>\n",
       "      <th>Day</th>\n",
       "      <th>Hour</th>\n",
       "      <th>Minute</th>\n",
       "      <th>Temperature daily mean [2 m above gnd]</th>\n",
       "      <th>Relative Humidity daily mean [2 m above gnd]</th>\n",
       "      <th>Mean Sea Level Pressure daily mean [MSL]</th>\n",
       "      <th>Total Precipitation (low resolution) daily sum [sfc]</th>\n",
       "      <th>Total Cloud Cover daily mean [sfc]</th>\n",
       "      <th>...</th>\n",
       "      <th>Low Cloud Cover daily max [low cld lay]</th>\n",
       "      <th>Low Cloud Cover daily min [low cld lay]</th>\n",
       "      <th>Wind Speed daily max [10 m above gnd]</th>\n",
       "      <th>Wind Speed daily min [10 m above gnd]</th>\n",
       "      <th>Wind Speed daily max [80 m above gnd]</th>\n",
       "      <th>Wind Speed daily min [80 m above gnd]</th>\n",
       "      <th>Wind Speed daily max [900 mb]</th>\n",
       "      <th>Wind Speed daily min [900 mb]</th>\n",
       "      <th>Wind Gust daily max [sfc]</th>\n",
       "      <th>Wind Gust daily min [sfc]</th>\n",
       "    </tr>\n",
       "    <tr>\n",
       "      <th>date</th>\n",
       "      <th></th>\n",
       "      <th></th>\n",
       "      <th></th>\n",
       "      <th></th>\n",
       "      <th></th>\n",
       "      <th></th>\n",
       "      <th></th>\n",
       "      <th></th>\n",
       "      <th></th>\n",
       "      <th></th>\n",
       "      <th></th>\n",
       "      <th></th>\n",
       "      <th></th>\n",
       "      <th></th>\n",
       "      <th></th>\n",
       "      <th></th>\n",
       "      <th></th>\n",
       "      <th></th>\n",
       "      <th></th>\n",
       "      <th></th>\n",
       "      <th></th>\n",
       "    </tr>\n",
       "  </thead>\n",
       "  <tbody>\n",
       "    <tr>\n",
       "      <th>2000-01-01</th>\n",
       "      <td>2000</td>\n",
       "      <td>1</td>\n",
       "      <td>1</td>\n",
       "      <td>0</td>\n",
       "      <td>0</td>\n",
       "      <td>26.98</td>\n",
       "      <td>61.46</td>\n",
       "      <td>1006.71</td>\n",
       "      <td>2.1</td>\n",
       "      <td>69.88</td>\n",
       "      <td>...</td>\n",
       "      <td>100.0</td>\n",
       "      <td>0.0</td>\n",
       "      <td>5.13</td>\n",
       "      <td>0.08</td>\n",
       "      <td>7.88</td>\n",
       "      <td>0.17</td>\n",
       "      <td>18.62</td>\n",
       "      <td>1.00</td>\n",
       "      <td>12.30</td>\n",
       "      <td>4.03</td>\n",
       "    </tr>\n",
       "    <tr>\n",
       "      <th>2000-01-02</th>\n",
       "      <td>2000</td>\n",
       "      <td>1</td>\n",
       "      <td>2</td>\n",
       "      <td>0</td>\n",
       "      <td>0</td>\n",
       "      <td>24.44</td>\n",
       "      <td>82.12</td>\n",
       "      <td>1007.59</td>\n",
       "      <td>6.7</td>\n",
       "      <td>69.92</td>\n",
       "      <td>...</td>\n",
       "      <td>100.0</td>\n",
       "      <td>0.0</td>\n",
       "      <td>4.31</td>\n",
       "      <td>1.62</td>\n",
       "      <td>6.59</td>\n",
       "      <td>2.29</td>\n",
       "      <td>17.01</td>\n",
       "      <td>4.82</td>\n",
       "      <td>13.42</td>\n",
       "      <td>4.47</td>\n",
       "    </tr>\n",
       "  </tbody>\n",
       "</table>\n",
       "<p>2 rows × 44 columns</p>\n",
       "</div>"
      ],
      "text/plain": [
       "            Year  Month  Day  Hour  Minute  \\\n",
       "date                                         \n",
       "2000-01-01  2000      1    1     0       0   \n",
       "2000-01-02  2000      1    2     0       0   \n",
       "\n",
       "            Temperature daily mean [2 m above gnd]  \\\n",
       "date                                                 \n",
       "2000-01-01                                   26.98   \n",
       "2000-01-02                                   24.44   \n",
       "\n",
       "            Relative Humidity daily mean [2 m above gnd]  \\\n",
       "date                                                       \n",
       "2000-01-01                                         61.46   \n",
       "2000-01-02                                         82.12   \n",
       "\n",
       "            Mean Sea Level Pressure daily mean [MSL]  \\\n",
       "date                                                   \n",
       "2000-01-01                                   1006.71   \n",
       "2000-01-02                                   1007.59   \n",
       "\n",
       "            Total Precipitation (low resolution) daily sum [sfc]  \\\n",
       "date                                                               \n",
       "2000-01-01                                                2.1      \n",
       "2000-01-02                                                6.7      \n",
       "\n",
       "            Total Cloud Cover daily mean [sfc]  ...  \\\n",
       "date                                            ...   \n",
       "2000-01-01                               69.88  ...   \n",
       "2000-01-02                               69.92  ...   \n",
       "\n",
       "            Low Cloud Cover daily max [low cld lay]  \\\n",
       "date                                                  \n",
       "2000-01-01                                    100.0   \n",
       "2000-01-02                                    100.0   \n",
       "\n",
       "            Low Cloud Cover daily min [low cld lay]  \\\n",
       "date                                                  \n",
       "2000-01-01                                      0.0   \n",
       "2000-01-02                                      0.0   \n",
       "\n",
       "            Wind Speed daily max [10 m above gnd]  \\\n",
       "date                                                \n",
       "2000-01-01                                   5.13   \n",
       "2000-01-02                                   4.31   \n",
       "\n",
       "            Wind Speed daily min [10 m above gnd]  \\\n",
       "date                                                \n",
       "2000-01-01                                   0.08   \n",
       "2000-01-02                                   1.62   \n",
       "\n",
       "            Wind Speed daily max [80 m above gnd]  \\\n",
       "date                                                \n",
       "2000-01-01                                   7.88   \n",
       "2000-01-02                                   6.59   \n",
       "\n",
       "            Wind Speed daily min [80 m above gnd]  \\\n",
       "date                                                \n",
       "2000-01-01                                   0.17   \n",
       "2000-01-02                                   2.29   \n",
       "\n",
       "            Wind Speed daily max [900 mb]  Wind Speed daily min [900 mb]  \\\n",
       "date                                                                       \n",
       "2000-01-01                          18.62                           1.00   \n",
       "2000-01-02                          17.01                           4.82   \n",
       "\n",
       "            Wind Gust daily max [sfc]  Wind Gust daily min [sfc]  \n",
       "date                                                              \n",
       "2000-01-01                      12.30                       4.03  \n",
       "2000-01-02                      13.42                       4.47  \n",
       "\n",
       "[2 rows x 44 columns]"
      ]
     },
     "execution_count": 205,
     "metadata": {},
     "output_type": "execute_result"
    }
   ],
   "source": [
    "#Dataset\n",
    "df = pd.read_csv('/Users/paul.carroll/Github/Forecasting/data/weather.csv')\n",
    "df['date'] = pd.to_datetime(df[['Day','Month','Year']])\n",
    "df.set_index('date',inplace=True, drop=True)\n",
    "\n",
    "df.head(2)\n",
    "\n"
   ]
  },
  {
   "cell_type": "code",
   "execution_count": 206,
   "id": "d6786903-ea4e-4bc5-8c5e-74c9287a7c2f",
   "metadata": {},
   "outputs": [],
   "source": [
    "rename_map = {\n",
    "   \n",
    "    'Total Precipitation (low resolution) daily sum [sfc]':    'Rainfall',\n",
    "    'Total Cloud Cover daily mean [sfc]':'Cloudcover',\n",
    "   'Sunshine Duration daily sum [sfc]': 'Sunshine',\n",
    "    'Temperature daily mean [2 m above gnd]':'Temperature',\n",
    "    'Temperature daily max [2 m above gnd]':'Temperature_max',\n",
    "    'Relative Humidity daily mean [2 m above gnd]':'Humidity',\n",
    "    'Mean Sea Level Pressure daily mean [MSL]':'Pressure_mean',\n",
    "    'Shortwave Radiation daily sum [sfc]':'Radiation',\n",
    "     'Wind Speed daily max [900 mb]':'max_wind_speed',\n",
    "    'Wind Speed daily mean [900 mb]':'Windspeed_mean'\n",
    "}\n",
    "\n",
    "df.rename(columns=rename_map, inplace=True)"
   ]
  },
  {
   "cell_type": "code",
   "execution_count": 211,
   "id": "795fa40e-b5af-42bb-88a5-05cfb0aefc96",
   "metadata": {},
   "outputs": [
    {
     "data": {
      "text/html": [
       "<div>\n",
       "<style scoped>\n",
       "    .dataframe tbody tr th:only-of-type {\n",
       "        vertical-align: middle;\n",
       "    }\n",
       "\n",
       "    .dataframe tbody tr th {\n",
       "        vertical-align: top;\n",
       "    }\n",
       "\n",
       "    .dataframe thead th {\n",
       "        text-align: right;\n",
       "    }\n",
       "</style>\n",
       "<table border=\"1\" class=\"dataframe\">\n",
       "  <thead>\n",
       "    <tr style=\"text-align: right;\">\n",
       "      <th></th>\n",
       "      <th>Temperature</th>\n",
       "    </tr>\n",
       "    <tr>\n",
       "      <th>date</th>\n",
       "      <th></th>\n",
       "    </tr>\n",
       "  </thead>\n",
       "  <tbody>\n",
       "    <tr>\n",
       "      <th>2000-01-01</th>\n",
       "      <td>26.98</td>\n",
       "    </tr>\n",
       "    <tr>\n",
       "      <th>2000-01-02</th>\n",
       "      <td>24.44</td>\n",
       "    </tr>\n",
       "  </tbody>\n",
       "</table>\n",
       "</div>"
      ],
      "text/plain": [
       "            Temperature\n",
       "date                   \n",
       "2000-01-01        26.98\n",
       "2000-01-02        24.44"
      ]
     },
     "execution_count": 211,
     "metadata": {},
     "output_type": "execute_result"
    }
   ],
   "source": [
    "dfU = df.iloc[0:,5:6]\n",
    "dfU.head(2)"
   ]
  },
  {
   "cell_type": "code",
   "execution_count": 433,
   "id": "e22051af-c4b4-46a4-b684-226489f7b6ea",
   "metadata": {},
   "outputs": [],
   "source": [
    "# turn the univariate series into a sliding window. \n",
    "\n",
    "def series_to_supervised(data, n_in=1, n_out=1, dropnan=True):\n",
    "    n_vars = 1 if type(data) is list else data.shape[1]\n",
    "    df = pd.DataFrame(data)\n",
    "    cols = list()\n",
    "\n",
    "    for i in range(n_in, 0, -1):\n",
    "        cols.append(df.shift(i))\n",
    "    for i in range(0, n_out):\n",
    "        cols.append(df.shift(-i))\n",
    "    agg = pd.concat(cols, axis=1)\n",
    "    if dropnan:\n",
    "        agg.dropna(inplace=True)\n",
    "    return agg.values"
   ]
  },
  {
   "cell_type": "code",
   "execution_count": 434,
   "id": "9fd4e242-ccc9-4f8f-acf4-a8a8c7fa29c6",
   "metadata": {},
   "outputs": [],
   "source": [
    "#split a univariate dataset into train/test sets\n",
    "def train_test_split(data, n_test):\n",
    "    return data[:-n_test, :], data[-n_test:, :]"
   ]
  },
  {
   "cell_type": "code",
   "execution_count": 435,
   "id": "5f40b2ba-8b47-48e4-88b5-1f38770ec64c",
   "metadata": {},
   "outputs": [],
   "source": [
    "from numpy import asarray\n",
    "def xgboost_forecast(train, testX):\n",
    "    train = asarray(train)\n",
    "    trainX, trainy = train[:, :-1], train[:, -1]\n",
    "    model = XGBRegressor(objective='reg:squarederror', n_estimators=1000, max_depth = 6)\n",
    "    model.fit(trainX, trainy)\n",
    "    yhat = model.predict(asarray([testX]))\n",
    "    return yhat[0]"
   ]
  },
  {
   "cell_type": "code",
   "execution_count": 436,
   "id": "fad15666-f00c-4c48-8377-c07add74b38e",
   "metadata": {},
   "outputs": [],
   "source": [
    "# walk-forward validation for univariate data\n",
    "def walk_forward(data, n_test):\n",
    "    predictions = list()\n",
    "    train, test = train_test_split(data, n_test)\n",
    "    history = [x for x in train]\n",
    "\n",
    "    for i in range(len(test)):\n",
    "        x_test, y_test = test[i, :-1], test[i, 0]\n",
    "        yhat = xgboost_forecast(history, x_test)\n",
    "        predictions.append(yhat)\n",
    "        history.append(test[i])\n",
    "        print('>expected=%.1f, predicted=%.1f' % (y_test, yhat))\n",
    "#Input: %s, \n",
    "    mae = mean_absolute_error(test[:, -1], predictions)\n",
    "    rmse = sqrt(mean_squared_error(test[:,-1],predictions))\n",
    "    \n",
    "    return mae, rmse,test[:, -1], predictions"
   ]
  },
  {
   "cell_type": "code",
   "execution_count": 437,
   "id": "d739cdd0-c6af-4c88-8267-a4ef3255c576",
   "metadata": {},
   "outputs": [
    {
     "name": "stdout",
     "output_type": "stream",
     "text": [
      ">expected=24.8, predicted=26.0\n",
      ">expected=24.6, predicted=23.9\n",
      ">expected=24.4, predicted=25.2\n",
      ">expected=24.4, predicted=23.9\n",
      ">expected=24.8, predicted=25.0\n",
      ">expected=23.4, predicted=24.0\n",
      "MAE: 0.996\n",
      "RMSE: 0.898\n"
     ]
    },
    {
     "data": {
      "image/png": "[encoded data removed]",
      "text/plain": [
       "<Figure size 864x360 with 1 Axes>"
      ]
     },
     "metadata": {
      "needs_background": "light"
     },
     "output_type": "display_data"
    }
   ],
   "source": [
    "#set input range\n",
    "data = series_to_supervised(dfU, n_in=18)\n",
    "\n",
    "rmse,mae, y, yhat = walk_forward(data, 6)\n",
    "print('MAE: %.3f' % mae)\n",
    "print('RMSE: %.3f' % rmse)\n",
    "# plot expected vs preducted\n",
    "plt.plot(y, label='Expected')\n",
    "plt.plot(yhat, label='Predicted')\n",
    "plt.legend()\n",
    "plt.show();\n"
   ]
  },
  {
   "cell_type": "code",
   "execution_count": null,
   "id": "4272cd19-652b-4185-b1f5-bffc75e8d26d",
   "metadata": {},
   "outputs": [],
   "source": []
  },
  {
   "cell_type": "markdown",
   "id": "fec0bee2-7284-4e31-8f14-b8781e7fbf70",
   "metadata": {},
   "source": [
    "Now for XGBoost on a multivariate time series"
   ]
  },
  {
   "cell_type": "code",
   "execution_count": 404,
   "id": "be41ab43-0a0a-454b-8db5-92fad82fa3f5",
   "metadata": {},
   "outputs": [],
   "source": [
    "from sklearn.model_selection import TimeSeriesSplit,GridSearchCV\n"
   ]
  },
  {
   "cell_type": "code",
   "execution_count": 405,
   "id": "7b21ef18-e46f-4e88-8d8e-89a87ce6efd3",
   "metadata": {},
   "outputs": [],
   "source": [
    "dfm = df.resample('M').mean()"
   ]
  },
  {
   "cell_type": "code",
   "execution_count": 408,
   "id": "1df8f0ff-e8db-47bf-af19-6e25c7d67d41",
   "metadata": {},
   "outputs": [
    {
     "data": {
      "text/html": [
       "<div>\n",
       "<style scoped>\n",
       "    .dataframe tbody tr th:only-of-type {\n",
       "        vertical-align: middle;\n",
       "    }\n",
       "\n",
       "    .dataframe tbody tr th {\n",
       "        vertical-align: top;\n",
       "    }\n",
       "\n",
       "    .dataframe thead th {\n",
       "        text-align: right;\n",
       "    }\n",
       "</style>\n",
       "<table border=\"1\" class=\"dataframe\">\n",
       "  <thead>\n",
       "    <tr style=\"text-align: right;\">\n",
       "      <th></th>\n",
       "      <th>Year</th>\n",
       "      <th>Month</th>\n",
       "      <th>Day</th>\n",
       "      <th>Hour</th>\n",
       "      <th>Minute</th>\n",
       "      <th>Temperature</th>\n",
       "      <th>Humidity</th>\n",
       "      <th>Pressure_mean</th>\n",
       "      <th>Rainfall</th>\n",
       "      <th>Cloudcover</th>\n",
       "      <th>...</th>\n",
       "      <th>Low Cloud Cover daily max [low cld lay]</th>\n",
       "      <th>Low Cloud Cover daily min [low cld lay]</th>\n",
       "      <th>Wind Speed daily max [10 m above gnd]</th>\n",
       "      <th>Wind Speed daily min [10 m above gnd]</th>\n",
       "      <th>Wind Speed daily max [80 m above gnd]</th>\n",
       "      <th>Wind Speed daily min [80 m above gnd]</th>\n",
       "      <th>max_wind_speed</th>\n",
       "      <th>Wind Speed daily min [900 mb]</th>\n",
       "      <th>Wind Gust daily max [sfc]</th>\n",
       "      <th>Wind Gust daily min [sfc]</th>\n",
       "    </tr>\n",
       "    <tr>\n",
       "      <th>date</th>\n",
       "      <th></th>\n",
       "      <th></th>\n",
       "      <th></th>\n",
       "      <th></th>\n",
       "      <th></th>\n",
       "      <th></th>\n",
       "      <th></th>\n",
       "      <th></th>\n",
       "      <th></th>\n",
       "      <th></th>\n",
       "      <th></th>\n",
       "      <th></th>\n",
       "      <th></th>\n",
       "      <th></th>\n",
       "      <th></th>\n",
       "      <th></th>\n",
       "      <th></th>\n",
       "      <th></th>\n",
       "      <th></th>\n",
       "      <th></th>\n",
       "      <th></th>\n",
       "    </tr>\n",
       "  </thead>\n",
       "  <tbody>\n",
       "    <tr>\n",
       "      <th>2000-01-31</th>\n",
       "      <td>2000.0</td>\n",
       "      <td>1.0</td>\n",
       "      <td>16.0</td>\n",
       "      <td>0.0</td>\n",
       "      <td>0.0</td>\n",
       "      <td>25.587742</td>\n",
       "      <td>73.243226</td>\n",
       "      <td>1008.476129</td>\n",
       "      <td>5.270968</td>\n",
       "      <td>66.566452</td>\n",
       "      <td>...</td>\n",
       "      <td>88.322581</td>\n",
       "      <td>0.0</td>\n",
       "      <td>5.197097</td>\n",
       "      <td>1.433548</td>\n",
       "      <td>7.170645</td>\n",
       "      <td>2.61</td>\n",
       "      <td>17.319032</td>\n",
       "      <td>6.57</td>\n",
       "      <td>12.534194</td>\n",
       "      <td>4.885806</td>\n",
       "    </tr>\n",
       "  </tbody>\n",
       "</table>\n",
       "<p>1 rows × 44 columns</p>\n",
       "</div>"
      ],
      "text/plain": [
       "              Year  Month   Day  Hour  Minute  Temperature   Humidity  \\\n",
       "date                                                                    \n",
       "2000-01-31  2000.0    1.0  16.0   0.0     0.0    25.587742  73.243226   \n",
       "\n",
       "            Pressure_mean  Rainfall  Cloudcover  ...  \\\n",
       "date                                             ...   \n",
       "2000-01-31    1008.476129  5.270968   66.566452  ...   \n",
       "\n",
       "            Low Cloud Cover daily max [low cld lay]  \\\n",
       "date                                                  \n",
       "2000-01-31                                88.322581   \n",
       "\n",
       "            Low Cloud Cover daily min [low cld lay]  \\\n",
       "date                                                  \n",
       "2000-01-31                                      0.0   \n",
       "\n",
       "            Wind Speed daily max [10 m above gnd]  \\\n",
       "date                                                \n",
       "2000-01-31                               5.197097   \n",
       "\n",
       "            Wind Speed daily min [10 m above gnd]  \\\n",
       "date                                                \n",
       "2000-01-31                               1.433548   \n",
       "\n",
       "            Wind Speed daily max [80 m above gnd]  \\\n",
       "date                                                \n",
       "2000-01-31                               7.170645   \n",
       "\n",
       "            Wind Speed daily min [80 m above gnd]  max_wind_speed  \\\n",
       "date                                                                \n",
       "2000-01-31                                   2.61       17.319032   \n",
       "\n",
       "            Wind Speed daily min [900 mb]  Wind Gust daily max [sfc]  \\\n",
       "date                                                                   \n",
       "2000-01-31                           6.57                  12.534194   \n",
       "\n",
       "            Wind Gust daily min [sfc]  \n",
       "date                                   \n",
       "2000-01-31                   4.885806  \n",
       "\n",
       "[1 rows x 44 columns]"
      ]
     },
     "execution_count": 408,
     "metadata": {},
     "output_type": "execute_result"
    }
   ],
   "source": [
    "dfm.head(1)"
   ]
  },
  {
   "cell_type": "code",
   "execution_count": 358,
   "id": "fd63bb21-2ae5-41f9-86be-6a1896e2f995",
   "metadata": {},
   "outputs": [],
   "source": [
    "def split_data(data, test_split):\n",
    "        l = len(data)\n",
    "        t_idx = round(l*(1-test_split))\n",
    "        train, test = data[ : t_idx], data[t_idx : ]\n",
    "        print(f'train: {len(train)} , test: {len(test)}')\n",
    "        return train, test"
   ]
  },
  {
   "cell_type": "code",
   "execution_count": 389,
   "id": "595c4f5a-1656-4515-a209-776230e2eeeb",
   "metadata": {},
   "outputs": [],
   "source": [
    "#set column name for prediction variable\n",
    "z = 'Temperature'"
   ]
  },
  {
   "cell_type": "code",
   "execution_count": 390,
   "id": "88cb686b-515c-4f40-8e78-efe67be3ff48",
   "metadata": {},
   "outputs": [
    {
     "data": {
      "text/plain": [
       "40"
      ]
     },
     "execution_count": 390,
     "metadata": {},
     "output_type": "execute_result"
    }
   ],
   "source": [
    "q = (int(len(dfm)/6)*5)\n",
    "prediction_set = dfm[q:]\n",
    "len(prediction_set)"
   ]
  },
  {
   "cell_type": "code",
   "execution_count": 391,
   "id": "fee8c60d-a121-4b59-891e-b020a8f4f1dd",
   "metadata": {},
   "outputs": [],
   "source": [
    "prediction_set = prediction_set.drop(z, axis= 1)"
   ]
  },
  {
   "cell_type": "code",
   "execution_count": 365,
   "id": "76f402d2-71d2-4173-88cd-ebe6f93d1953",
   "metadata": {},
   "outputs": [],
   "source": [
    "dfm2 = dfm[:q]\n",
    "predictors = dfm2.drop(z,axis=1)"
   ]
  },
  {
   "cell_type": "code",
   "execution_count": 492,
   "id": "cc16e3e7-bd8f-4239-9af7-bd94580ea755",
   "metadata": {},
   "outputs": [],
   "source": [
    "X = predictors.iloc[:,1: -1].values\n",
    "y = dfm2[z].values"
   ]
  },
  {
   "cell_type": "code",
   "execution_count": 493,
   "id": "3dd37f8a-6e6d-4609-baaa-cf69e4f404ad",
   "metadata": {},
   "outputs": [],
   "source": [
    "from sklearn.model_selection import train_test_split, GridSearchCV\n",
    "X_train, X_test, y_train, y_test = train_test_split(X,y, test_size = 0.2, random_state= 0, shuffle=False)"
   ]
  },
  {
   "cell_type": "code",
   "execution_count": 495,
   "id": "70a95d12-52d1-47e6-8172-ef2a7007af85",
   "metadata": {},
   "outputs": [],
   "source": [
    "from sklearn.preprocessing import StandardScaler\n",
    "scaler = StandardScaler()\n",
    "X_trains = pd.DataFrame(scaler.fit_transform(X_train))\n",
    "X_tests = pd.DataFrame(scaler.transform(X_test))\n",
    "                        "
   ]
  },
  {
   "cell_type": "code",
   "execution_count": 497,
   "id": "936d308c-3f5c-45e2-9d1a-bcdd93e8432d",
   "metadata": {},
   "outputs": [
    {
     "name": "stdout",
     "output_type": "stream",
     "text": [
      "XGBRegressor(base_score=0.5, booster='gbtree', callbacks=None,\n",
      "             colsample_bylevel=1, colsample_bynode=1, colsample_bytree=1,\n",
      "             early_stopping_rounds=None, enable_categorical=False,\n",
      "             eval_metric=None, gamma=0, gpu_id=-1, grow_policy='depthwise',\n",
      "             importance_type=None, interaction_constraints='',\n",
      "             learning_rate=0.01, max_bin=256, max_cat_to_onehot=4,\n",
      "             max_delta_step=0, max_depth=1, max_leaves=0, min_child_weight=1,\n",
      "             missing=nan, monotone_constraints='()', n_estimators=10000,\n",
      "             n_jobs=0, num_parallel_tree=1, predictor='auto', random_state=0,\n",
      "             reg_alpha=0, reg_lambda=1, ...)\n"
     ]
    },
    {
     "data": {
      "text/plain": [
       "'\\nmodelXGB.fit(X_trains, y_train)\\n'"
      ]
     },
     "execution_count": 497,
     "metadata": {},
     "output_type": "execute_result"
    }
   ],
   "source": [
    "from xgboost import plot_importance, plot_tree\n",
    "params = {'max_depth':range(1,6,2), 'min_child_weight':range(1,10,2), 'n_estimators':[100,1000,10000],'learning_rate':[0.01,0.1]}\n",
    "\n",
    "modelXGB = XGBRegressor(objective = 'reg:squarederror')\n",
    "#cv = TimeSeriesSplit(n_splits=10).split(X_trains)\n",
    "gs = GridSearchCV(estimator=modelXGB, cv=10,\n",
    "                        param_grid=params)\n",
    "gs.fit(X_trains, y_train)\n",
    "print(gs.best_estimator_)\n",
    "\n",
    "\n",
    "'''\n",
    "modelXGB.fit(X_trains, y_train)\n",
    "'''"
   ]
  },
  {
   "cell_type": "code",
   "execution_count": 498,
   "id": "0da14605-1b5f-409a-a0c2-0feb81426fc7",
   "metadata": {},
   "outputs": [
    {
     "name": "stdout",
     "output_type": "stream",
     "text": [
      "MAE: 0.996\n",
      "RMSE: 0.231\n"
     ]
    }
   ],
   "source": [
    "preds_xgb = gs.predict(X_tests)\n",
    "\n",
    "mae_xgb = mean_absolute_error(y_test, preds_xgb)\n",
    "rmse_xgb = sqrt(mean_squared_error(y_test, preds_xgb))\n",
    "\n",
    "print('MAE: %.3f' % mae)\n",
    "print('RMSE: %.3f' % rmse_xgb)\n"
   ]
  },
  {
   "cell_type": "code",
   "execution_count": 499,
   "id": "b7f659ac-fc40-404d-8ac7-90af6e184090",
   "metadata": {},
   "outputs": [],
   "source": [
    "X_pred = prediction_set.iloc[:,1:-1].values\n",
    "X_pred_s = StandardScaler().fit_transform(X_pred)"
   ]
  },
  {
   "cell_type": "code",
   "execution_count": 502,
   "id": "031d300f-9867-4807-bf9b-bd780cbbabcd",
   "metadata": {},
   "outputs": [],
   "source": [
    "predictions = gs.predict(X_pred_s)\n",
    "predictions = pd.DataFrame({'Predictions': predictions})"
   ]
  },
  {
   "cell_type": "code",
   "execution_count": 503,
   "id": "a1f871c2-c544-4ed3-9d0a-57ac3ae5f89f",
   "metadata": {},
   "outputs": [],
   "source": [
    "results = pd.concat([prediction_set.tail(len(X_pred_s)).reset_index(drop=True),predictions],axis=1)"
   ]
  },
  {
   "cell_type": "code",
   "execution_count": 504,
   "id": "26938af7-893f-4189-af7d-efc84d57ad0c",
   "metadata": {},
   "outputs": [],
   "source": [
    "results['date'] = pd.to_datetime(results[['Day','Month','Year']])\n",
    "results.set_index('date',inplace=True, drop=True)"
   ]
  },
  {
   "cell_type": "code",
   "execution_count": 505,
   "id": "d8bcf53b-b2d1-40a4-ad24-f384df72fb05",
   "metadata": {},
   "outputs": [
    {
     "data": {
      "text/html": [
       "<div>\n",
       "<style scoped>\n",
       "    .dataframe tbody tr th:only-of-type {\n",
       "        vertical-align: middle;\n",
       "    }\n",
       "\n",
       "    .dataframe tbody tr th {\n",
       "        vertical-align: top;\n",
       "    }\n",
       "\n",
       "    .dataframe thead th {\n",
       "        text-align: right;\n",
       "    }\n",
       "</style>\n",
       "<table border=\"1\" class=\"dataframe\">\n",
       "  <thead>\n",
       "    <tr style=\"text-align: right;\">\n",
       "      <th></th>\n",
       "      <th>Year</th>\n",
       "      <th>Month</th>\n",
       "      <th>Day</th>\n",
       "      <th>Hour</th>\n",
       "      <th>Minute</th>\n",
       "      <th>Humidity</th>\n",
       "      <th>Pressure_mean</th>\n",
       "      <th>Rainfall</th>\n",
       "      <th>Cloudcover</th>\n",
       "      <th>High Cloud Cover daily mean [high cld lay]</th>\n",
       "      <th>...</th>\n",
       "      <th>Low Cloud Cover daily min [low cld lay]</th>\n",
       "      <th>Wind Speed daily max [10 m above gnd]</th>\n",
       "      <th>Wind Speed daily min [10 m above gnd]</th>\n",
       "      <th>Wind Speed daily max [80 m above gnd]</th>\n",
       "      <th>Wind Speed daily min [80 m above gnd]</th>\n",
       "      <th>max_wind_speed</th>\n",
       "      <th>Wind Speed daily min [900 mb]</th>\n",
       "      <th>Wind Gust daily max [sfc]</th>\n",
       "      <th>Wind Gust daily min [sfc]</th>\n",
       "      <th>Predictions</th>\n",
       "    </tr>\n",
       "    <tr>\n",
       "      <th>date</th>\n",
       "      <th></th>\n",
       "      <th></th>\n",
       "      <th></th>\n",
       "      <th></th>\n",
       "      <th></th>\n",
       "      <th></th>\n",
       "      <th></th>\n",
       "      <th></th>\n",
       "      <th></th>\n",
       "      <th></th>\n",
       "      <th></th>\n",
       "      <th></th>\n",
       "      <th></th>\n",
       "      <th></th>\n",
       "      <th></th>\n",
       "      <th></th>\n",
       "      <th></th>\n",
       "      <th></th>\n",
       "      <th></th>\n",
       "      <th></th>\n",
       "      <th></th>\n",
       "    </tr>\n",
       "  </thead>\n",
       "  <tbody>\n",
       "    <tr>\n",
       "      <th>2016-09-15</th>\n",
       "      <td>2016.0</td>\n",
       "      <td>9.0</td>\n",
       "      <td>15.5</td>\n",
       "      <td>0.0</td>\n",
       "      <td>0.0</td>\n",
       "      <td>63.76700</td>\n",
       "      <td>1013.710667</td>\n",
       "      <td>0.626667</td>\n",
       "      <td>41.150667</td>\n",
       "      <td>28.34800</td>\n",
       "      <td>...</td>\n",
       "      <td>3.333333</td>\n",
       "      <td>6.063000</td>\n",
       "      <td>1.369000</td>\n",
       "      <td>8.773333</td>\n",
       "      <td>2.248333</td>\n",
       "      <td>16.469667</td>\n",
       "      <td>3.319000</td>\n",
       "      <td>9.708333</td>\n",
       "      <td>2.453</td>\n",
       "      <td>26.80946</td>\n",
       "    </tr>\n",
       "    <tr>\n",
       "      <th>2016-10-16</th>\n",
       "      <td>2016.0</td>\n",
       "      <td>10.0</td>\n",
       "      <td>16.0</td>\n",
       "      <td>0.0</td>\n",
       "      <td>0.0</td>\n",
       "      <td>75.04129</td>\n",
       "      <td>1010.992581</td>\n",
       "      <td>4.561290</td>\n",
       "      <td>64.670968</td>\n",
       "      <td>52.63871</td>\n",
       "      <td>...</td>\n",
       "      <td>3.225806</td>\n",
       "      <td>6.154194</td>\n",
       "      <td>1.051935</td>\n",
       "      <td>8.485484</td>\n",
       "      <td>2.063226</td>\n",
       "      <td>18.180000</td>\n",
       "      <td>4.680645</td>\n",
       "      <td>10.203548</td>\n",
       "      <td>3.240</td>\n",
       "      <td>25.85952</td>\n",
       "    </tr>\n",
       "  </tbody>\n",
       "</table>\n",
       "<p>2 rows × 44 columns</p>\n",
       "</div>"
      ],
      "text/plain": [
       "              Year  Month   Day  Hour  Minute  Humidity  Pressure_mean  \\\n",
       "date                                                                     \n",
       "2016-09-15  2016.0    9.0  15.5   0.0     0.0  63.76700    1013.710667   \n",
       "2016-10-16  2016.0   10.0  16.0   0.0     0.0  75.04129    1010.992581   \n",
       "\n",
       "            Rainfall  Cloudcover  High Cloud Cover daily mean [high cld lay]  \\\n",
       "date                                                                           \n",
       "2016-09-15  0.626667   41.150667                                    28.34800   \n",
       "2016-10-16  4.561290   64.670968                                    52.63871   \n",
       "\n",
       "            ...  Low Cloud Cover daily min [low cld lay]  \\\n",
       "date        ...                                            \n",
       "2016-09-15  ...                                 3.333333   \n",
       "2016-10-16  ...                                 3.225806   \n",
       "\n",
       "            Wind Speed daily max [10 m above gnd]  \\\n",
       "date                                                \n",
       "2016-09-15                               6.063000   \n",
       "2016-10-16                               6.154194   \n",
       "\n",
       "            Wind Speed daily min [10 m above gnd]  \\\n",
       "date                                                \n",
       "2016-09-15                               1.369000   \n",
       "2016-10-16                               1.051935   \n",
       "\n",
       "            Wind Speed daily max [80 m above gnd]  \\\n",
       "date                                                \n",
       "2016-09-15                               8.773333   \n",
       "2016-10-16                               8.485484   \n",
       "\n",
       "            Wind Speed daily min [80 m above gnd]  max_wind_speed  \\\n",
       "date                                                                \n",
       "2016-09-15                               2.248333       16.469667   \n",
       "2016-10-16                               2.063226       18.180000   \n",
       "\n",
       "            Wind Speed daily min [900 mb]  Wind Gust daily max [sfc]  \\\n",
       "date                                                                   \n",
       "2016-09-15                       3.319000                   9.708333   \n",
       "2016-10-16                       4.680645                  10.203548   \n",
       "\n",
       "            Wind Gust daily min [sfc]  Predictions  \n",
       "date                                                \n",
       "2016-09-15                      2.453     26.80946  \n",
       "2016-10-16                      3.240     25.85952  \n",
       "\n",
       "[2 rows x 44 columns]"
      ]
     },
     "execution_count": 505,
     "metadata": {},
     "output_type": "execute_result"
    }
   ],
   "source": [
    "results.head(2)"
   ]
  },
  {
   "cell_type": "code",
   "execution_count": 506,
   "id": "87073059-e1c4-4d5a-b89b-4778168e2b6b",
   "metadata": {},
   "outputs": [
    {
     "data": {
      "image/png": "[encoded data removed]",
      "text/plain": [
       "<Figure size 1440x576 with 1 Axes>"
      ]
     },
     "metadata": {
      "needs_background": "light"
     },
     "output_type": "display_data"
    }
   ],
   "source": [
    "plt.figure(figsize=(20,8))\n",
    "plt.plot(dfm.Temperature, label = 'Real Data')\n",
    "plt.plot(results.Predictions, label = 'Forecasts')\n",
    "plt.legend()\n",
    "plt.title('Temperature & Forecast data')\n",
    "plt.show();"
   ]
  },
  {
   "cell_type": "code",
   "execution_count": 510,
   "id": "fb923a23-8507-4c0a-af35-2fce8395cf51",
   "metadata": {},
   "outputs": [
    {
     "data": {
      "image/png": "[encoded data removed]",
      "text/plain": [
       "<Figure size 864x360 with 1 Axes>"
      ]
     },
     "metadata": {
      "needs_background": "light"
     },
     "output_type": "display_data"
    }
   ],
   "source": [
    "# Visualise the feature importance\n",
    "plot_importance(gs.best_estimator_);"
   ]
  },
  {
   "cell_type": "code",
   "execution_count": null,
   "id": "e2fd50aa-e3d5-4cfc-b51c-654f38ae75a2",
   "metadata": {},
   "outputs": [],
   "source": []
  },
  {
   "cell_type": "markdown",
   "id": "239c4971-267e-4236-a7aa-aad49a72ce07",
   "metadata": {},
   "source": [
    "Some other options to consider with univariate and multivariate XGBoost, TimeSeriesSplit in sklearn.\n",
    "additionally a gridsearch parameter search\n",
    "tscv = TimeSeriesSplit()\n",
    "print(tscv)\n",
    "for train_index, test_index in tscv.split(X):\n",
    "    print(\"TRAIN:\", train_index, \"TEST:\", test_index)\n",
    "model = XGBRegressor()\n",
    "params = {'max_depth':range(1,10,2), 'min_child_weight':range(1,10,2), 'n_estimators':[100,1000,10000],'learning_rate':[0.01,0.1]}\n",
    "from xgboost import plot_importance, plot_tree\n",
    "\n",
    "X = np.array(predictors)\n",
    "y = np.array(dfm.Temperature)\n",
    "tscv = TimeSeriesSplit(n_splits=2)\n",
    "model = xgb.XGBRegressor()\n",
    "param_search = params\n",
    "#{'max_depth':range(3,5)}\n",
    "my_cv = TimeSeriesSplit(n_splits=5).split(X)\n",
    "gsearch = GridSearchCV(estimator=model, cv=my_cv,\n",
    "                        param_grid=param_search)\n",
    "gsearch.fit(X, y)\n",
    "print(gsearch.best_estimator_)\n",
    "print(gsearch.score(X,y))\n"
   ]
  },
  {
   "cell_type": "code",
   "execution_count": null,
   "id": "5f67d271-6c01-4405-8a8b-f851e703272e",
   "metadata": {},
   "outputs": [],
   "source": []
  }
 ],
 "metadata": {
  "kernelspec": {
   "display_name": "Python 3 (ipykernel)",
   "language": "python",
   "name": "python3"
  },
  "language_info": {
   "codemirror_mode": {
    "name": "ipython",
    "version": 3
   },
   "file_extension": ".py",
   "mimetype": "text/x-python",
   "name": "python",
   "nbconvert_exporter": "python",
   "pygments_lexer": "ipython3",
   "version": "3.8.9"
  }
 },
 "nbformat": 4,
 "nbformat_minor": 5
}
