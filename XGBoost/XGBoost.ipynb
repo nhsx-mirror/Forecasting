{
 "cells": [
  {
   "cell_type": "code",
   "execution_count": 18,
   "id": "8221b558-492b-44f2-85b4-f0d5927cc8c6",
   "metadata": {},
   "outputs": [],
   "source": [
    "# Import libraries\n",
    "\n",
    "\n",
    "import pandas as pd\n",
    "import numpy as np\n",
    "import matplotlib.pyplot as plt\n",
    "import warnings\n",
    "import seaborn as sns\n",
    "import matplotlib \n",
    "import scipy \n",
    "import sklearn\n",
    "from sklearn.metrics import mean_squared_error, mean_absolute_error, mean_squared_log_error\n",
    "from math import sqrt\n",
    "from xgboost import XGBRegressor\n",
    "\n"
   ]
  },
  {
   "cell_type": "code",
   "execution_count": 19,
   "id": "0e1a9292-921b-43b7-84a8-28a80c6d2ace",
   "metadata": {},
   "outputs": [],
   "source": [
    "# Read in Dataset\n",
    "df = pd.read_csv('/Users/paul.carroll/Github/Forecasting/data/weather.csv')\n",
    "df['date'] = pd.to_datetime(df[['Day','Month','Year']])\n",
    "df.set_index('date',inplace=True, drop=True)\n"
   ]
  },
  {
   "cell_type": "code",
   "execution_count": 5,
   "id": "d6786903-ea4e-4bc5-8c5e-74c9287a7c2f",
   "metadata": {},
   "outputs": [],
   "source": [
    "# Some EDA.\n",
    "\n",
    "rename_map = {\n",
    "   \n",
    "    'Total Precipitation (low resolution) daily sum [sfc]':    'Rainfall',\n",
    "    'Total Cloud Cover daily mean [sfc]':'Cloudcover',\n",
    "   'Sunshine Duration daily sum [sfc]': 'Sunshine',\n",
    "    'Temperature daily mean [2 m above gnd]':'Temperature',\n",
    "    'Temperature daily max [2 m above gnd]':'Temperature_max',\n",
    "    'Relative Humidity daily mean [2 m above gnd]':'Humidity',\n",
    "    'Mean Sea Level Pressure daily mean [MSL]':'Pressure_mean',\n",
    "    'Shortwave Radiation daily sum [sfc]':'Radiation',\n",
    "     'Wind Speed daily max [900 mb]':'max_wind_speed',\n",
    "    'Wind Speed daily mean [900 mb]':'Windspeed_mean'\n",
    "}\n",
    "\n",
    "df.rename(columns=rename_map, inplace=True)"
   ]
  },
  {
   "cell_type": "code",
   "execution_count": 20,
   "id": "795fa40e-b5af-42bb-88a5-05cfb0aefc96",
   "metadata": {},
   "outputs": [
    {
     "data": {
      "text/html": [
       "<div>\n",
       "<style scoped>\n",
       "    .dataframe tbody tr th:only-of-type {\n",
       "        vertical-align: middle;\n",
       "    }\n",
       "\n",
       "    .dataframe tbody tr th {\n",
       "        vertical-align: top;\n",
       "    }\n",
       "\n",
       "    .dataframe thead th {\n",
       "        text-align: right;\n",
       "    }\n",
       "</style>\n",
       "<table border=\"1\" class=\"dataframe\">\n",
       "  <thead>\n",
       "    <tr style=\"text-align: right;\">\n",
       "      <th></th>\n",
       "      <th>Temperature daily mean [2 m above gnd]</th>\n",
       "    </tr>\n",
       "    <tr>\n",
       "      <th>date</th>\n",
       "      <th></th>\n",
       "    </tr>\n",
       "  </thead>\n",
       "  <tbody>\n",
       "    <tr>\n",
       "      <th>2000-01-01</th>\n",
       "      <td>26.98</td>\n",
       "    </tr>\n",
       "    <tr>\n",
       "      <th>2000-01-02</th>\n",
       "      <td>24.44</td>\n",
       "    </tr>\n",
       "  </tbody>\n",
       "</table>\n",
       "</div>"
      ],
      "text/plain": [
       "            Temperature daily mean [2 m above gnd]\n",
       "date                                              \n",
       "2000-01-01                                   26.98\n",
       "2000-01-02                                   24.44"
      ]
     },
     "execution_count": 20,
     "metadata": {},
     "output_type": "execute_result"
    }
   ],
   "source": [
    "# Selecting one column for Univariate modelling.\n",
    "\n",
    "dfU = df.iloc[0:,5:6]\n",
    "dfU.head(2)"
   ]
  },
  {
   "cell_type": "code",
   "execution_count": 7,
   "id": "e22051af-c4b4-46a4-b684-226489f7b6ea",
   "metadata": {},
   "outputs": [],
   "source": [
    "# turn the univariate series into a sliding window. \n",
    "\n",
    "def series_to_supervised(data, n_in=1, n_out=1, dropnan=True):\n",
    "    n_vars = 1 if type(data) is list else data.shape[1]\n",
    "    df = pd.DataFrame(data)\n",
    "    cols = list()\n",
    "\n",
    "    for i in range(n_in, 0, -1):\n",
    "        cols.append(df.shift(i))\n",
    "    for i in range(0, n_out):\n",
    "        cols.append(df.shift(-i))\n",
    "    agg = pd.concat(cols, axis=1)\n",
    "    if dropnan:\n",
    "        agg.dropna(inplace=True)\n",
    "    return agg.values"
   ]
  },
  {
   "cell_type": "code",
   "execution_count": 16,
   "id": "9fd4e242-ccc9-4f8f-acf4-a8a8c7fa29c6",
   "metadata": {},
   "outputs": [],
   "source": [
    "#split a univariate dataset into train/test sets\n",
    "def train_test_split(data, n_test):\n",
    "    return data[:-n_test, :], data[-n_test:, :]"
   ]
  },
  {
   "cell_type": "code",
   "execution_count": 9,
   "id": "5f40b2ba-8b47-48e4-88b5-1f38770ec64c",
   "metadata": {},
   "outputs": [],
   "source": [
    "# forecast function\n",
    "from numpy import asarray\n",
    "def xgboost_forecast(train, testX):\n",
    "    train = asarray(train)\n",
    "    trainX, trainy = train[:, :-1], train[:, -1]\n",
    "    model = XGBRegressor(objective='reg:squarederror', n_estimators=1000, max_depth = 6)\n",
    "    model.fit(trainX, trainy)\n",
    "    yhat = model.predict(asarray([testX]))\n",
    "    return yhat[0]"
   ]
  },
  {
   "cell_type": "code",
   "execution_count": 10,
   "id": "fad15666-f00c-4c48-8377-c07add74b38e",
   "metadata": {},
   "outputs": [],
   "source": [
    "# walk-forward validation for univariate data\n",
    "def walk_forward(data, n_test):\n",
    "    predictions = list()\n",
    "    train, test = train_test_split(data, n_test)\n",
    "    history = [x for x in train]\n",
    "\n",
    "    for i in range(len(test)):\n",
    "        x_test, y_test = test[i, :-1], test[i, 0]\n",
    "        yhat = xgboost_forecast(history, x_test)\n",
    "        predictions.append(yhat)\n",
    "        history.append(test[i])\n",
    "        print('>expected=%.1f, predicted=%.1f' % (y_test, yhat))\n",
    "#Input: %s, \n",
    "    mae = mean_absolute_error(test[:, -1], predictions)\n",
    "    rmse = sqrt(mean_squared_error(test[:,-1],predictions))\n",
    "    \n",
    "    return mae, rmse,test[:, -1], predictions"
   ]
  },
  {
   "cell_type": "code",
   "execution_count": null,
   "id": "d739cdd0-c6af-4c88-8267-a4ef3255c576",
   "metadata": {},
   "outputs": [
    {
     "name": "stdout",
     "output_type": "stream",
     "text": [
      ">expected=24.8, predicted=26.0\n",
      ">expected=24.6, predicted=23.9\n",
      ">expected=24.4, predicted=25.2\n",
      ">expected=24.4, predicted=23.9\n",
      ">expected=24.8, predicted=25.0\n"
     ]
    }
   ],
   "source": [
    "#set input range and print a forecast length here of length 6 alongside test data\n",
    "data = series_to_supervised(dfU, n_in=18)\n",
    "\n",
    "rmse,mae, y, yhat = walk_forward(data, 6)\n",
    "print('MAE: %.3f' % mae)\n",
    "print('RMSE: %.3f' % rmse)\n",
    "# plot expected vs preducted\n",
    "plt.plot(y, label='Expected')\n",
    "plt.plot(yhat, label='Predicted')\n",
    "plt.legend()\n",
    "plt.show();\n"
   ]
  },
  {
   "cell_type": "markdown",
   "id": "fec0bee2-7284-4e31-8f14-b8781e7fbf70",
   "metadata": {},
   "source": [
    "Now for XGBoost on a multivariate time series"
   ]
  },
  {
   "cell_type": "code",
   "execution_count": null,
   "id": "be41ab43-0a0a-454b-8db5-92fad82fa3f5",
   "metadata": {},
   "outputs": [],
   "source": [
    "from sklearn.model_selection import TimeSeriesSplit,GridSearchCV"
   ]
  },
  {
   "cell_type": "code",
   "execution_count": null,
   "id": "7b21ef18-e46f-4e88-8d8e-89a87ce6efd3",
   "metadata": {},
   "outputs": [],
   "source": [
    "dfm = df.resample('M').mean()"
   ]
  },
  {
   "cell_type": "code",
   "execution_count": null,
   "id": "1df8f0ff-e8db-47bf-af19-6e25c7d67d41",
   "metadata": {},
   "outputs": [],
   "source": [
    "dfm.head(1)"
   ]
  },
  {
   "cell_type": "code",
   "execution_count": null,
   "id": "fd63bb21-2ae5-41f9-86be-6a1896e2f995",
   "metadata": {},
   "outputs": [],
   "source": [
    "def split_data(data, test_split):\n",
    "        l = len(data)\n",
    "        t_idx = round(l*(1-test_split))\n",
    "        train, test = data[ : t_idx], data[t_idx : ]\n",
    "        print(f'train: {len(train)} , test: {len(test)}')\n",
    "        return train, test"
   ]
  },
  {
   "cell_type": "code",
   "execution_count": null,
   "id": "595c4f5a-1656-4515-a209-776230e2eeeb",
   "metadata": {},
   "outputs": [],
   "source": [
    "#set column name for prediction variable\n",
    "z = 'Temperature'"
   ]
  },
  {
   "cell_type": "code",
   "execution_count": null,
   "id": "88cb686b-515c-4f40-8e78-efe67be3ff48",
   "metadata": {},
   "outputs": [],
   "source": [
    "q = (int(len(dfm)/6)*5)\n",
    "prediction_set = dfm[q:]\n",
    "len(prediction_set)"
   ]
  },
  {
   "cell_type": "code",
   "execution_count": null,
   "id": "fee8c60d-a121-4b59-891e-b020a8f4f1dd",
   "metadata": {},
   "outputs": [],
   "source": [
    "prediction_set = prediction_set.drop(z, axis= 1)"
   ]
  },
  {
   "cell_type": "code",
   "execution_count": null,
   "id": "76f402d2-71d2-4173-88cd-ebe6f93d1953",
   "metadata": {},
   "outputs": [],
   "source": [
    "dfm2 = dfm[:q]\n",
    "predictors = dfm2.drop(z,axis=1)"
   ]
  },
  {
   "cell_type": "code",
   "execution_count": null,
   "id": "cc16e3e7-bd8f-4239-9af7-bd94580ea755",
   "metadata": {},
   "outputs": [],
   "source": [
    "X = predictors.iloc[:,1: -1].values\n",
    "y = dfm2[z].values"
   ]
  },
  {
   "cell_type": "code",
   "execution_count": null,
   "id": "3dd37f8a-6e6d-4609-baaa-cf69e4f404ad",
   "metadata": {},
   "outputs": [],
   "source": [
    "from sklearn.model_selection import train_test_split, GridSearchCV\n",
    "X_train, X_test, y_train, y_test = train_test_split(X,y, test_size = 0.2, random_state= 0, shuffle=False)"
   ]
  },
  {
   "cell_type": "code",
   "execution_count": null,
   "id": "70a95d12-52d1-47e6-8172-ef2a7007af85",
   "metadata": {},
   "outputs": [],
   "source": [
    "from sklearn.preprocessing import StandardScaler\n",
    "scaler = StandardScaler()\n",
    "X_trains = pd.DataFrame(scaler.fit_transform(X_train))\n",
    "X_tests = pd.DataFrame(scaler.transform(X_test))\n",
    "                        "
   ]
  },
  {
   "cell_type": "code",
   "execution_count": null,
   "id": "936d308c-3f5c-45e2-9d1a-bcdd93e8432d",
   "metadata": {},
   "outputs": [],
   "source": [
    "from xgboost import plot_importance, plot_tree\n",
    "params = {'max_depth':range(1,6,2), 'min_child_weight':range(1,10,2), 'n_estimators':[100,1000,10000],'learning_rate':[0.01,0.1]}\n",
    "\n",
    "modelXGB = XGBRegressor(objective = 'reg:squarederror')\n",
    "#cv = TimeSeriesSplit(n_splits=10).split(X_trains)\n",
    "gs = GridSearchCV(estimator=modelXGB, cv=10,\n",
    "                        param_grid=params)\n",
    "gs.fit(X_trains, y_train)\n",
    "print(gs.best_estimator_)\n",
    "\n",
    "\n",
    "'''\n",
    "modelXGB.fit(X_trains, y_train)\n",
    "'''"
   ]
  },
  {
   "cell_type": "code",
   "execution_count": null,
   "id": "0da14605-1b5f-409a-a0c2-0feb81426fc7",
   "metadata": {},
   "outputs": [],
   "source": [
    "preds_xgb = gs.predict(X_tests)\n",
    "\n",
    "mae_xgb = mean_absolute_error(y_test, preds_xgb)\n",
    "rmse_xgb = sqrt(mean_squared_error(y_test, preds_xgb))\n",
    "\n",
    "print('MAE: %.3f' % mae)\n",
    "print('RMSE: %.3f' % rmse_xgb)\n"
   ]
  },
  {
   "cell_type": "code",
   "execution_count": null,
   "id": "b7f659ac-fc40-404d-8ac7-90af6e184090",
   "metadata": {},
   "outputs": [],
   "source": [
    "X_pred = prediction_set.iloc[:,1:-1].values\n",
    "X_pred_s = StandardScaler().fit_transform(X_pred)"
   ]
  },
  {
   "cell_type": "code",
   "execution_count": null,
   "id": "031d300f-9867-4807-bf9b-bd780cbbabcd",
   "metadata": {},
   "outputs": [],
   "source": [
    "predictions = gs.predict(X_pred_s)\n",
    "predictions = pd.DataFrame({'Predictions': predictions})"
   ]
  },
  {
   "cell_type": "code",
   "execution_count": null,
   "id": "a1f871c2-c544-4ed3-9d0a-57ac3ae5f89f",
   "metadata": {},
   "outputs": [],
   "source": [
    "results = pd.concat([prediction_set.tail(len(X_pred_s)).reset_index(drop=True),predictions],axis=1)"
   ]
  },
  {
   "cell_type": "code",
   "execution_count": null,
   "id": "26938af7-893f-4189-af7d-efc84d57ad0c",
   "metadata": {},
   "outputs": [],
   "source": [
    "results['date'] = pd.to_datetime(results[['Day','Month','Year']])\n",
    "results.set_index('date',inplace=True, drop=True)"
   ]
  },
  {
   "cell_type": "code",
   "execution_count": null,
   "id": "d8bcf53b-b2d1-40a4-ad24-f384df72fb05",
   "metadata": {},
   "outputs": [],
   "source": [
    "results.head(2)"
   ]
  },
  {
   "cell_type": "code",
   "execution_count": null,
   "id": "87073059-e1c4-4d5a-b89b-4778168e2b6b",
   "metadata": {},
   "outputs": [],
   "source": [
    "plt.figure(figsize=(20,8))\n",
    "plt.plot(dfm.Temperature, label = 'Real Data')\n",
    "plt.plot(results.Predictions, label = 'Forecasts')\n",
    "plt.legend()\n",
    "plt.title('Temperature & Forecast data')\n",
    "plt.show();"
   ]
  },
  {
   "cell_type": "code",
   "execution_count": 510,
   "id": "fb923a23-8507-4c0a-af35-2fce8395cf51",
   "metadata": {},
   "outputs": [
    {
     "data": {
      "image/png": "[encoded data removed]",
      "text/plain": [
       "<Figure size 864x360 with 1 Axes>"
      ]
     },
     "metadata": {
      "needs_background": "light"
     },
     "output_type": "display_data"
    }
   ],
   "source": [
    "# Visualise the feature importance\n",
    "plot_importance(gs.best_estimator_);"
   ]
  },
  {
   "cell_type": "code",
   "execution_count": null,
   "id": "e2fd50aa-e3d5-4cfc-b51c-654f38ae75a2",
   "metadata": {},
   "outputs": [],
   "source": []
  },
  {
   "cell_type": "markdown",
   "id": "239c4971-267e-4236-a7aa-aad49a72ce07",
   "metadata": {},
   "source": [
    "Some other options to consider with univariate and multivariate XGBoost, TimeSeriesSplit in sklearn.\n",
    "additionally a gridsearch parameter search\n",
    "tscv = TimeSeriesSplit()\n",
    "print(tscv)\n",
    "for train_index, test_index in tscv.split(X):\n",
    "    print(\"TRAIN:\", train_index, \"TEST:\", test_index)\n",
    "model = XGBRegressor()\n",
    "params = {'max_depth':range(1,10,2), 'min_child_weight':range(1,10,2), 'n_estimators':[100,1000,10000],'learning_rate':[0.01,0.1]}\n",
    "from xgboost import plot_importance, plot_tree\n",
    "\n",
    "X = np.array(predictors)\n",
    "y = np.array(dfm.Temperature)\n",
    "tscv = TimeSeriesSplit(n_splits=2)\n",
    "model = xgb.XGBRegressor()\n",
    "param_search = params\n",
    "#{'max_depth':range(3,5)}\n",
    "my_cv = TimeSeriesSplit(n_splits=5).split(X)\n",
    "gsearch = GridSearchCV(estimator=model, cv=my_cv,\n",
    "                        param_grid=param_search)\n",
    "gsearch.fit(X, y)\n",
    "print(gsearch.best_estimator_)\n",
    "print(gsearch.score(X,y))\n"
   ]
  },
  {
   "cell_type": "code",
   "execution_count": null,
   "id": "5f67d271-6c01-4405-8a8b-f851e703272e",
   "metadata": {},
   "outputs": [],
   "source": []
  }
 ],
 "metadata": {
  "kernelspec": {
   "display_name": "Python 3 (ipykernel)",
   "language": "python",
   "name": "python3"
  },
  "language_info": {
   "codemirror_mode": {
    "name": "ipython",
    "version": 3
   },
   "file_extension": ".py",
   "mimetype": "text/x-python",
   "name": "python",
   "nbconvert_exporter": "python",
   "pygments_lexer": "ipython3",
   "version": "3.8.9"
  }
 },
 "nbformat": 4,
 "nbformat_minor": 5
}
