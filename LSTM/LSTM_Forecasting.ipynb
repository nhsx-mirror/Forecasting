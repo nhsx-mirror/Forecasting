{
 "cells": [
  {
   "cell_type": "markdown",
   "id": "602f4f40-3865-4676-a843-e5a9f4b17903",
   "metadata": {},
   "source": [
    "Univariate Time Series Forecasting using a LSTM neural network model "
   ]
  },
  {
   "cell_type": "code",
   "execution_count": 23,
   "id": "554789a9-431a-4382-bd71-4d1987354106",
   "metadata": {},
   "outputs": [],
   "source": [
    "import numpy as np\n",
    "import pandas as pd\n",
    "from datetime import datetime \n",
    "from datetime import timedelta\n",
    "import matplotlib.pyplot as plt\n",
    "import seaborn as sns\n",
    "\n",
    "sns.set(font_scale=1.5)\n",
    "%config InlineBackend.figure_format = 'retina'\n",
    "%matplotlib inline\n",
    "from datetime import datetime\n",
    "from datetime import timedelta\n",
    "sns.set(style=\"ticks\", rc={\"lines.linewidth\": 1.5})"
   ]
  },
  {
   "cell_type": "code",
   "execution_count": 24,
   "id": "5501eb3a-0fb0-443d-93c0-8c508cba1360",
   "metadata": {},
   "outputs": [],
   "source": [
    "## use pyspark to import a dataset if necessary\n",
    "\n",
    "import pyspark.sql.functions as sf\n",
    "import pyspark.sql.types as st\n",
    "from pyspark.sql.window import Window\n",
    "from pyspark.context import SparkContext\n",
    "#date_exp = sqlContext.sql(\"select * FROM ...\")\n",
    "\n"
   ]
  },
  {
   "cell_type": "code",
   "execution_count": 25,
   "id": "9082de25-f98d-4a2f-a53a-ad95eb75d346",
   "metadata": {},
   "outputs": [
    {
     "data": {
      "text/plain": [
       "'date formatting\\ndate_exp[[\\'payment_date\\']] = date_exp[[\\'payment_date\\']].applymap(str).applymap(lambda s: \"{}-{}-{}\".format(s[4:6],s[6:], s[0:4]))\\n\\ndate_exp[\\'payment_date\\'] = pd.to_datetime(date_exp.payment_date)\\ndate_exp.set_index(\\'payment_date\\', inplace=True,drop=True)\\n\\ndate_exp = date_exp[(date_exp[\\'faster_payments\\']>1)]\\n\\ncheck dataset visually\\n\\nplt.figure(figsize = (20,8))\\ndate_bk.groupby([\\'payment_date\\'])[[\\'faster_payments\\']].mean().plot(lw=2.5, figsize=(12, 5));\\nplt.show();\\n\\n'"
      ]
     },
     "execution_count": 25,
     "metadata": {},
     "output_type": "execute_result"
    }
   ],
   "source": [
    "'''date formatting\n",
    "date_exp[['payment_date']] = date_exp[['payment_date']].applymap(str).applymap(lambda s: \"{}-{}-{}\".format(s[4:6],s[6:], s[0:4]))\n",
    "\n",
    "date_exp['payment_date'] = pd.to_datetime(date_exp.payment_date)\n",
    "date_exp.set_index('payment_date', inplace=True,drop=True)\n",
    "\n",
    "date_exp = date_exp[(date_exp['faster_payments']>1)]\n",
    "\n",
    "check dataset visually\n",
    "\n",
    "plt.figure(figsize = (20,8))\n",
    "date_bk.groupby(['payment_date'])[['faster_payments']].mean().plot(lw=2.5, figsize=(12, 5));\n",
    "plt.show();\n",
    "\n",
    "'''\n"
   ]
  },
  {
   "cell_type": "code",
   "execution_count": 40,
   "id": "f4c9453e-742e-4de8-a0b7-114b4fe8a1f1",
   "metadata": {},
   "outputs": [
    {
     "data": {
      "text/html": [
       "<div>\n",
       "<style scoped>\n",
       "    .dataframe tbody tr th:only-of-type {\n",
       "        vertical-align: middle;\n",
       "    }\n",
       "\n",
       "    .dataframe tbody tr th {\n",
       "        vertical-align: top;\n",
       "    }\n",
       "\n",
       "    .dataframe thead th {\n",
       "        text-align: right;\n",
       "    }\n",
       "</style>\n",
       "<table border=\"1\" class=\"dataframe\">\n",
       "  <thead>\n",
       "    <tr style=\"text-align: right;\">\n",
       "      <th></th>\n",
       "      <th>prod</th>\n",
       "    </tr>\n",
       "    <tr>\n",
       "      <th>Month</th>\n",
       "      <th></th>\n",
       "    </tr>\n",
       "  </thead>\n",
       "  <tbody>\n",
       "    <tr>\n",
       "      <th>1962-01</th>\n",
       "      <td>589.0</td>\n",
       "    </tr>\n",
       "    <tr>\n",
       "      <th>1962-02</th>\n",
       "      <td>561.0</td>\n",
       "    </tr>\n",
       "    <tr>\n",
       "      <th>1962-03</th>\n",
       "      <td>640.0</td>\n",
       "    </tr>\n",
       "    <tr>\n",
       "      <th>1962-04</th>\n",
       "      <td>656.0</td>\n",
       "    </tr>\n",
       "    <tr>\n",
       "      <th>1962-05</th>\n",
       "      <td>727.0</td>\n",
       "    </tr>\n",
       "  </tbody>\n",
       "</table>\n",
       "</div>"
      ],
      "text/plain": [
       "          prod\n",
       "Month         \n",
       "1962-01  589.0\n",
       "1962-02  561.0\n",
       "1962-03  640.0\n",
       "1962-04  656.0\n",
       "1962-05  727.0"
      ]
     },
     "execution_count": 40,
     "metadata": {},
     "output_type": "execute_result"
    }
   ],
   "source": [
    "milk = pd.read_csv('/Users/paul.carroll/Documents/datasets/monthlymilkproductionpounds.csv', index_col = 'Month')\n",
    "\n",
    "rename_map = {'Monthly milk production: pounds per cow. Jan 62 ? Dec 75':'prod'}\n",
    "\n",
    "milk.rename(columns=rename_map, inplace=True)\n",
    "milk.head()"
   ]
  },
  {
   "cell_type": "code",
   "execution_count": 50,
   "id": "a3e68b4e-e82d-4dd9-82de-a7c2a56226ca",
   "metadata": {},
   "outputs": [],
   "source": [
    "app_data = pd.read_csv('/Users/paul.carroll/Documents/datasets/App_data.csv',index_col = 'Month')"
   ]
  },
  {
   "cell_type": "code",
   "execution_count": 51,
   "id": "54bac6ca-58d3-49a6-86e1-72f4b2b25131",
   "metadata": {},
   "outputs": [
    {
     "data": {
      "text/html": [
       "<div>\n",
       "<style scoped>\n",
       "    .dataframe tbody tr th:only-of-type {\n",
       "        vertical-align: middle;\n",
       "    }\n",
       "\n",
       "    .dataframe tbody tr th {\n",
       "        vertical-align: top;\n",
       "    }\n",
       "\n",
       "    .dataframe thead th {\n",
       "        text-align: right;\n",
       "    }\n",
       "</style>\n",
       "<table border=\"1\" class=\"dataframe\">\n",
       "  <thead>\n",
       "    <tr style=\"text-align: right;\">\n",
       "      <th></th>\n",
       "      <th>App Users</th>\n",
       "    </tr>\n",
       "    <tr>\n",
       "      <th>Month</th>\n",
       "      <th></th>\n",
       "    </tr>\n",
       "  </thead>\n",
       "  <tbody>\n",
       "    <tr>\n",
       "      <th>Sep-20</th>\n",
       "      <td>1504415</td>\n",
       "    </tr>\n",
       "    <tr>\n",
       "      <th>Oct-20</th>\n",
       "      <td>1715806</td>\n",
       "    </tr>\n",
       "    <tr>\n",
       "      <th>Nov-20</th>\n",
       "      <td>1881300</td>\n",
       "    </tr>\n",
       "    <tr>\n",
       "      <th>Dec-20</th>\n",
       "      <td>2038510</td>\n",
       "    </tr>\n",
       "    <tr>\n",
       "      <th>Jan-21</th>\n",
       "      <td>2285874</td>\n",
       "    </tr>\n",
       "  </tbody>\n",
       "</table>\n",
       "</div>"
      ],
      "text/plain": [
       "        App Users\n",
       "Month            \n",
       "Sep-20    1504415\n",
       "Oct-20    1715806\n",
       "Nov-20    1881300\n",
       "Dec-20    2038510\n",
       "Jan-21    2285874"
      ]
     },
     "execution_count": 51,
     "metadata": {},
     "output_type": "execute_result"
    }
   ],
   "source": [
    "app_data.head()"
   ]
  },
  {
   "cell_type": "code",
   "execution_count": 49,
   "id": "1a66bf01-1d48-4400-9a6a-b81685e973c2",
   "metadata": {},
   "outputs": [
    {
     "data": {
      "text/plain": [
       "prod    float64\n",
       "dtype: object"
      ]
     },
     "execution_count": 49,
     "metadata": {},
     "output_type": "execute_result"
    }
   ],
   "source": [
    "#milk[['Month']] = milk[['Month']].applymap(str).applymap(lambda s:\"{}-{}"
   ]
  },
  {
   "cell_type": "code",
   "execution_count": 54,
   "id": "d4fbb8b9-d838-4304-ba98-34768ddb04c1",
   "metadata": {},
   "outputs": [
    {
     "data": {
      "text/plain": [
       "<AxesSubplot:xlabel='Month'>"
      ]
     },
     "execution_count": 54,
     "metadata": {},
     "output_type": "execute_result"
    },
    {
     "data": {
      "text/plain": [
       "<Figure size 1440x576 with 0 Axes>"
      ]
     },
     "metadata": {},
     "output_type": "display_data"
    },
    {
     "data": {
      "image/png": "[encoded data removed]",
      "text/plain": [
       "<Figure size 432x288 with 1 Axes>"
      ]
     },
     "metadata": {
      "image/png": {
       "height": 277,
       "width": 373
      }
     },
     "output_type": "display_data"
    }
   ],
   "source": [
    "#check your data\n",
    "plt.figure(figsize = (20,8))\n",
    "app_data.plot()"
   ]
  },
  {
   "cell_type": "code",
   "execution_count": 55,
   "id": "6f48765d-a8e5-4b85-975f-54de12831080",
   "metadata": {},
   "outputs": [],
   "source": [
    "\n",
    "import tensorflow as tf\n",
    "from numpy import array\n",
    "from keras.models import Sequential\n",
    "from keras.layers import LSTM\n",
    "from keras.layers import Dense, Dropout\n",
    "from keras.layers import Bidirectional\n",
    "from keras.layers import RepeatVector\n",
    "from keras.layers import TimeDistributed\n",
    "\n"
   ]
  },
  {
   "cell_type": "code",
   "execution_count": 56,
   "id": "f01e2002-68f0-4189-ad28-52151314315f",
   "metadata": {},
   "outputs": [],
   "source": [
    "def split_data(data, test_split):\n",
    "        l = len(data)\n",
    "        t_idx = round(l*(1-test_split))\n",
    "        train, test = data[ : t_idx], data[t_idx : ]\n",
    "        print(f'train: {len(train)} , test: {len(test)}')\n",
    "        return train, test"
   ]
  },
  {
   "cell_type": "code",
   "execution_count": 195,
   "id": "a078b614-313d-47ee-a04b-4b14dc479ed7",
   "metadata": {},
   "outputs": [],
   "source": [
    "#sequence splitter function\n",
    "\n",
    "def split_sequence(sequence, n_steps_in, n_steps_out):\n",
    "    X, y = list(), list()\n",
    "    for i in range(len(sequence)):\n",
    "        end_ix = i + n_steps_in\n",
    "        out_end_ix = end_ix + n_steps_out\n",
    "        if out_end_ix > len(sequence):\n",
    "            break\n",
    "\n",
    "        seq_x, seq_y = sequence[i:end_ix], sequence[end_ix:out_end_ix]\n",
    "        X.append(seq_x)\n",
    "        y.append(seq_y)\n",
    "    return array(X), array(y)"
   ]
  },
  {
   "cell_type": "code",
   "execution_count": 217,
   "id": "9fdb4e90-1878-4987-b8b9-063fe73619b6",
   "metadata": {},
   "outputs": [
    {
     "name": "stdout",
     "output_type": "stream",
     "text": [
      "[[29712384. 24831582.]]\n"
     ]
    }
   ],
   "source": [
    "# model and variables to run the model \n",
    "raw_seq = np.array(app_data)\n",
    "# define number of training steps\n",
    "n = 2\n",
    "m = len(raw_seq)\n",
    "n_steps_in = m-n\n",
    "#note that this number is also where x_input length gets defined\n",
    "\n",
    "# define number of prediction steps\n",
    "n_steps_out = n\n",
    "\n",
    "# univariate series being used here as dataset for the prediction\n",
    "n_features = 1\n",
    "\n",
    "\n",
    "tf.keras.backend.clear_session()\n",
    "\n",
    "X, y = split_sequence(raw_seq, n_steps_in, n_steps_out)\n",
    "X = X.reshape((X.shape[0], X.shape[1], n_features))\n",
    "\n",
    "\n",
    "model = Sequential()\n",
    "model.add(LSTM(100, activation='relu', input_shape=(n_steps_in, n_features)))\n",
    "#model.add(RepeatVector(n_steps_out))\n",
    "#model.add(LSTM(100, activation='relu', return_sequences=True))\n",
    "#model.add(TimeDistributed(Dense(1)))\n",
    "model.add(Dense(n_steps_out))\n",
    "model.compile(optimizer='adam', loss='mse')\n",
    "\n",
    "#fit the model, define number of epochs\n",
    "model.fit(X, y, epochs=100, verbose=0)\n",
    "\n",
    "# here used len(raw_seq) -3, to compare the last 3 of raw_seq against the predictions\n",
    "x_input = array(raw_seq[0:m-n])\n",
    "x_input = x_input.reshape((1, n_steps_in, n_features))\n",
    "yhat = model.predict(x_input, verbose=0)\n",
    "print(yhat)\n",
    "\n"
   ]
  },
  {
   "cell_type": "code",
   "execution_count": 221,
   "id": "a42e4a19-39b3-44bf-9613-f8b87cc8ed29",
   "metadata": {},
   "outputs": [],
   "source": [
    "# model function \n",
    "# variable setting\n",
    "m = len(raw_seq)\n",
    "n = 1\n",
    "n_steps_in = m-n\n",
    "n_steps_out = n\n",
    "n_features = 1\n",
    "\n",
    "def lstm_data(x):\n",
    "\n",
    "    raw_seq = np.array(x)\n",
    "    #n_steps_in, n_steps_out = m-n, n\n",
    "    X, y = split_sequence(raw_seq, n_steps_in, n_steps_out)\n",
    "    X = X.reshape((X.shape[0], X.shape[1], n_features))\n",
    "    #return X,y\n",
    "\n",
    "#def fit_lstm(data):\n",
    "    tf.keras.backend.clear_session()\n",
    "    model = Sequential()\n",
    "    model.add(LSTM(100, activation='relu', input_shape=(n_steps_in, n_features)))\n",
    "    model.add(RepeatVector(n_steps_out))\n",
    "    model.add(LSTM(100, activation='relu', return_sequences=True))\n",
    "    model.add(TimeDistributed(Dense(1)))\n",
    "    model.add(Dense(n_steps_out))\n",
    "    model.compile(optimizer='adam', loss='mse')\n",
    "    model.fit(X, y, epochs=1000, verbose=0)\n",
    "\n",
    "    x_input = array(raw_seq[0:m-n])\n",
    "    x_input = x_input.reshape((1, n_steps_in, n_features))\n",
    "    yhat = model.predict(x_input, verbose=0)\n",
    "    #yhat = int(yhat)\n",
    "    return(yhat)\n",
    "              "
   ]
  },
  {
   "cell_type": "code",
   "execution_count": 222,
   "id": "b52d01c1-fd27-4fbc-b056-98f970431f07",
   "metadata": {},
   "outputs": [
    {
     "data": {
      "text/plain": [
       "array([[[25144260.]]], dtype=float32)"
      ]
     },
     "execution_count": 222,
     "metadata": {},
     "output_type": "execute_result"
    }
   ],
   "source": [
    "lstm_data(app_data)"
   ]
  },
  {
   "cell_type": "code",
   "execution_count": 162,
   "id": "4b5f8f71-f3c4-4924-84c7-15c27b031379",
   "metadata": {},
   "outputs": [],
   "source": []
  },
  {
   "cell_type": "code",
   "execution_count": 223,
   "id": "56285199-1fc0-433a-a313-441504be5ab3",
   "metadata": {},
   "outputs": [],
   "source": [
    "# function to run the model repeatedly, and to average the results. \n",
    "\n",
    "def run(data, runs):\n",
    "    #repeats is how many times you want the model to run\n",
    "    #n is equal to the last value in the dataset that will be in the model, ie n+1 is the number to predict.\n",
    "    #model will use 0-n.\n",
    "    #m= n-2\n",
    "    #n_steps_in, n_steps_out = m-n, 1\n",
    "    #n_features = 1\n",
    "    #m this sets the lower boundary for the data selection into the model. Must be at least 1 less than n.\n",
    "    #datax= prepare_data(data)\n",
    "    results = list()\n",
    "    for r in range(runs):\n",
    "        result = lstm_data(data)\n",
    "        #print('>#%d: %.3f' % (r+1, result))\n",
    "        results.append(result)\n",
    "        msg = np.mean(results)\n",
    "    return(msg)\n",
    " #   summarize_results(results)\n",
    "    #return(np.mean(results))\n",
    "\n"
   ]
  },
  {
   "cell_type": "code",
   "execution_count": 224,
   "id": "d2e009e3-b8ea-4ff6-a5fe-8a5f0a735ded",
   "metadata": {},
   "outputs": [
    {
     "data": {
      "text/plain": [
       "25735864.0"
      ]
     },
     "execution_count": 224,
     "metadata": {},
     "output_type": "execute_result"
    }
   ],
   "source": [
    "run(app_data,3)"
   ]
  },
  {
   "cell_type": "code",
   "execution_count": 226,
   "id": "752a4d5f-c9ca-4876-84b5-da223ea46e17",
   "metadata": {},
   "outputs": [
    {
     "data": {
      "text/html": [
       "<div>\n",
       "<style scoped>\n",
       "    .dataframe tbody tr th:only-of-type {\n",
       "        vertical-align: middle;\n",
       "    }\n",
       "\n",
       "    .dataframe tbody tr th {\n",
       "        vertical-align: top;\n",
       "    }\n",
       "\n",
       "    .dataframe thead th {\n",
       "        text-align: right;\n",
       "    }\n",
       "</style>\n",
       "<table border=\"1\" class=\"dataframe\">\n",
       "  <thead>\n",
       "    <tr style=\"text-align: right;\">\n",
       "      <th></th>\n",
       "      <th>App Users</th>\n",
       "    </tr>\n",
       "    <tr>\n",
       "      <th>Month</th>\n",
       "      <th></th>\n",
       "    </tr>\n",
       "  </thead>\n",
       "  <tbody>\n",
       "    <tr>\n",
       "      <th>Apr-22</th>\n",
       "      <td>27400000</td>\n",
       "    </tr>\n",
       "  </tbody>\n",
       "</table>\n",
       "</div>"
      ],
      "text/plain": [
       "        App Users\n",
       "Month            \n",
       "Apr-22   27400000"
      ]
     },
     "execution_count": 226,
     "metadata": {},
     "output_type": "execute_result"
    }
   ],
   "source": [
    "app_data.tail(1)"
   ]
  },
  {
   "cell_type": "code",
   "execution_count": null,
   "id": "c8892379-593d-4c79-ab0b-5adaa18d8312",
   "metadata": {},
   "outputs": [],
   "source": []
  },
  {
   "cell_type": "code",
   "execution_count": null,
   "id": "cf75727f-fce2-4dc0-afd3-3c3bf1e8d80b",
   "metadata": {},
   "outputs": [],
   "source": []
  }
 ],
 "metadata": {
  "kernelspec": {
   "display_name": "Python 3 (ipykernel)",
   "language": "python",
   "name": "python3"
  },
  "language_info": {
   "codemirror_mode": {
    "name": "ipython",
    "version": 3
   },
   "file_extension": ".py",
   "mimetype": "text/x-python",
   "name": "python",
   "nbconvert_exporter": "python",
   "pygments_lexer": "ipython3",
   "version": "3.8.9"
  }
 },
 "nbformat": 4,
 "nbformat_minor": 5
}
